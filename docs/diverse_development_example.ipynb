{
 "cells": [
  {
   "cell_type": "markdown",
   "metadata": {},
   "source": [
    "# diverse development using pennlinckit"
   ]
  },
  {
   "cell_type": "code",
   "execution_count": 1,
   "metadata": {},
   "outputs": [],
   "source": [
    "import sys\n",
    "factor = sys.argv[1]"
   ]
  },
  {
   "cell_type": "markdown",
   "metadata": {},
   "source": [
    "#### pennlinckit contains data, plotting, brain, network science, and math functions common to neuroscience projects"
   ]
  },
  {
   "cell_type": "code",
   "execution_count": 2,
   "metadata": {},
   "outputs": [],
   "source": [
    "import pennlinckit"
   ]
  },
  {
   "cell_type": "markdown",
   "metadata": {},
   "source": [
    "#### standard libraries"
   ]
  },
  {
   "cell_type": "code",
   "execution_count": 3,
   "metadata": {},
   "outputs": [],
   "source": [
    "import numpy as np\n",
    "import scipy.stats\n",
    "import seaborn as sns\n",
    "import matplotlib.pylab as plt\n",
    "from scipy.stats import pearsonr, spearmanr"
   ]
  },
  {
   "cell_type": "code",
   "execution_count": 4,
   "metadata": {},
   "outputs": [],
   "source": [
    "data = pennlinckit.data.dataset('pnc')"
   ]
  },
  {
   "cell_type": "code",
   "execution_count": 5,
   "metadata": {},
   "outputs": [],
   "source": [
    "data.load_matrices('rest')"
   ]
  },
  {
   "cell_type": "markdown",
   "metadata": {},
   "source": [
    "## What is in this object?"
   ]
  },
  {
   "cell_type": "markdown",
   "metadata": {},
   "source": [
    "#### You will probably be most interested in the matrices:"
   ]
  },
  {
   "cell_type": "code",
   "execution_count": 6,
   "metadata": {},
   "outputs": [
    {
     "data": {
      "text/plain": [
       "(1601, 400, 400)"
      ]
     },
     "execution_count": 6,
     "metadata": {},
     "output_type": "execute_result"
    }
   ],
   "source": [
    "data.matrix.shape"
   ]
  },
  {
   "cell_type": "markdown",
   "metadata": {},
   "source": [
    "#### You can always double check what dataset you called with:"
   ]
  },
  {
   "cell_type": "code",
   "execution_count": 7,
   "metadata": {},
   "outputs": [
    {
     "data": {
      "text/plain": [
       "'pnc'"
      ]
     },
     "execution_count": 7,
     "metadata": {},
     "output_type": "execute_result"
    }
   ],
   "source": [
    "data.source"
   ]
  },
  {
   "cell_type": "markdown",
   "metadata": {},
   "source": [
    "#### All data objects will have a \"measures\" method, which is a pandas dataframe with all the info you need"
   ]
  },
  {
   "cell_type": "code",
   "execution_count": 8,
   "metadata": {},
   "outputs": [
    {
     "data": {
      "text/html": [
       "<div>\n",
       "<style scoped>\n",
       "    .dataframe tbody tr th:only-of-type {\n",
       "        vertical-align: middle;\n",
       "    }\n",
       "\n",
       "    .dataframe tbody tr th {\n",
       "        vertical-align: top;\n",
       "    }\n",
       "\n",
       "    .dataframe thead th {\n",
       "        text-align: right;\n",
       "    }\n",
       "</style>\n",
       "<table border=\"1\" class=\"dataframe\">\n",
       "  <thead>\n",
       "    <tr style=\"text-align: right;\">\n",
       "      <th></th>\n",
       "      <th>bblid_x</th>\n",
       "      <th>subject</th>\n",
       "      <th>sex</th>\n",
       "      <th>race</th>\n",
       "      <th>race2</th>\n",
       "      <th>ethnicity</th>\n",
       "      <th>ageAtClinicalAssess1</th>\n",
       "      <th>ageAtCnb1</th>\n",
       "      <th>ageAtScan1</th>\n",
       "      <th>edu1</th>\n",
       "      <th>...</th>\n",
       "      <th>restRelMeanRMSMotion</th>\n",
       "      <th>restRelMeanRMSMotionExclude</th>\n",
       "      <th>restNSpikesMotion</th>\n",
       "      <th>restNSpikesMotionExclude</th>\n",
       "      <th>restNormCrossCorr</th>\n",
       "      <th>restNormCoverage</th>\n",
       "      <th>restCoregCrossCorr</th>\n",
       "      <th>restCoregCoverage</th>\n",
       "      <th>restVoxelwiseCoverageExclude</th>\n",
       "      <th>restRpsMapCorrectionNotApplied</th>\n",
       "    </tr>\n",
       "  </thead>\n",
       "  <tbody>\n",
       "    <tr>\n",
       "      <th>0</th>\n",
       "      <td>80010</td>\n",
       "      <td>2894</td>\n",
       "      <td>1</td>\n",
       "      <td>1</td>\n",
       "      <td>1</td>\n",
       "      <td>2</td>\n",
       "      <td>260</td>\n",
       "      <td>260</td>\n",
       "      <td>261</td>\n",
       "      <td>14</td>\n",
       "      <td>...</td>\n",
       "      <td>0.097756</td>\n",
       "      <td>0.0</td>\n",
       "      <td>10.0</td>\n",
       "      <td>0.0</td>\n",
       "      <td>0.903724</td>\n",
       "      <td>0.987702</td>\n",
       "      <td>0.873996</td>\n",
       "      <td>0.989849</td>\n",
       "      <td>0.0</td>\n",
       "      <td>0</td>\n",
       "    </tr>\n",
       "    <tr>\n",
       "      <th>1</th>\n",
       "      <td>80179</td>\n",
       "      <td>2643</td>\n",
       "      <td>2</td>\n",
       "      <td>1</td>\n",
       "      <td>1</td>\n",
       "      <td>2</td>\n",
       "      <td>254</td>\n",
       "      <td>254</td>\n",
       "      <td>254</td>\n",
       "      <td>12</td>\n",
       "      <td>...</td>\n",
       "      <td>0.123359</td>\n",
       "      <td>0.0</td>\n",
       "      <td>9.0</td>\n",
       "      <td>0.0</td>\n",
       "      <td>0.905378</td>\n",
       "      <td>0.964365</td>\n",
       "      <td>0.900334</td>\n",
       "      <td>0.975325</td>\n",
       "      <td>0.0</td>\n",
       "      <td>1</td>\n",
       "    </tr>\n",
       "    <tr>\n",
       "      <th>2</th>\n",
       "      <td>80199</td>\n",
       "      <td>2637</td>\n",
       "      <td>1</td>\n",
       "      <td>5</td>\n",
       "      <td>3</td>\n",
       "      <td>1</td>\n",
       "      <td>243</td>\n",
       "      <td>244</td>\n",
       "      <td>244</td>\n",
       "      <td>12</td>\n",
       "      <td>...</td>\n",
       "      <td>0.022592</td>\n",
       "      <td>0.0</td>\n",
       "      <td>0.0</td>\n",
       "      <td>0.0</td>\n",
       "      <td>0.909586</td>\n",
       "      <td>0.989839</td>\n",
       "      <td>0.883383</td>\n",
       "      <td>0.990407</td>\n",
       "      <td>0.0</td>\n",
       "      <td>1</td>\n",
       "    </tr>\n",
       "    <tr>\n",
       "      <th>3</th>\n",
       "      <td>80208</td>\n",
       "      <td>3016</td>\n",
       "      <td>1</td>\n",
       "      <td>2</td>\n",
       "      <td>2</td>\n",
       "      <td>2</td>\n",
       "      <td>245</td>\n",
       "      <td>245</td>\n",
       "      <td>246</td>\n",
       "      <td>11</td>\n",
       "      <td>...</td>\n",
       "      <td>0.046629</td>\n",
       "      <td>0.0</td>\n",
       "      <td>1.0</td>\n",
       "      <td>0.0</td>\n",
       "      <td>0.900216</td>\n",
       "      <td>0.988733</td>\n",
       "      <td>0.876665</td>\n",
       "      <td>0.991539</td>\n",
       "      <td>0.0</td>\n",
       "      <td>0</td>\n",
       "    </tr>\n",
       "    <tr>\n",
       "      <th>4</th>\n",
       "      <td>80249</td>\n",
       "      <td>2648</td>\n",
       "      <td>2</td>\n",
       "      <td>1</td>\n",
       "      <td>1</td>\n",
       "      <td>2</td>\n",
       "      <td>250</td>\n",
       "      <td>250</td>\n",
       "      <td>250</td>\n",
       "      <td>16</td>\n",
       "      <td>...</td>\n",
       "      <td>0.684977</td>\n",
       "      <td>1.0</td>\n",
       "      <td>65.0</td>\n",
       "      <td>1.0</td>\n",
       "      <td>0.884094</td>\n",
       "      <td>0.951311</td>\n",
       "      <td>0.880534</td>\n",
       "      <td>0.976181</td>\n",
       "      <td>1.0</td>\n",
       "      <td>1</td>\n",
       "    </tr>\n",
       "  </tbody>\n",
       "</table>\n",
       "<p>5 rows × 65 columns</p>\n",
       "</div>"
      ],
      "text/plain": [
       "   bblid_x  subject  sex  race  race2  ethnicity  ageAtClinicalAssess1  \\\n",
       "0    80010     2894    1     1      1          2                   260   \n",
       "1    80179     2643    2     1      1          2                   254   \n",
       "2    80199     2637    1     5      3          1                   243   \n",
       "3    80208     3016    1     2      2          2                   245   \n",
       "4    80249     2648    2     1      1          2                   250   \n",
       "\n",
       "   ageAtCnb1  ageAtScan1  edu1  ...  restRelMeanRMSMotion  \\\n",
       "0        260         261    14  ...              0.097756   \n",
       "1        254         254    12  ...              0.123359   \n",
       "2        244         244    12  ...              0.022592   \n",
       "3        245         246    11  ...              0.046629   \n",
       "4        250         250    16  ...              0.684977   \n",
       "\n",
       "   restRelMeanRMSMotionExclude  restNSpikesMotion  restNSpikesMotionExclude  \\\n",
       "0                          0.0               10.0                       0.0   \n",
       "1                          0.0                9.0                       0.0   \n",
       "2                          0.0                0.0                       0.0   \n",
       "3                          0.0                1.0                       0.0   \n",
       "4                          1.0               65.0                       1.0   \n",
       "\n",
       "   restNormCrossCorr  restNormCoverage  restCoregCrossCorr  restCoregCoverage  \\\n",
       "0           0.903724          0.987702            0.873996           0.989849   \n",
       "1           0.905378          0.964365            0.900334           0.975325   \n",
       "2           0.909586          0.989839            0.883383           0.990407   \n",
       "3           0.900216          0.988733            0.876665           0.991539   \n",
       "4           0.884094          0.951311            0.880534           0.976181   \n",
       "\n",
       "   restVoxelwiseCoverageExclude  restRpsMapCorrectionNotApplied  \n",
       "0                           0.0                               0  \n",
       "1                           0.0                               1  \n",
       "2                           0.0                               1  \n",
       "3                           0.0                               0  \n",
       "4                           1.0                               1  \n",
       "\n",
       "[5 rows x 65 columns]"
      ]
     },
     "execution_count": 8,
     "metadata": {},
     "output_type": "execute_result"
    }
   ],
   "source": [
    "data.measures.head()"
   ]
  },
  {
   "cell_type": "code",
   "execution_count": 9,
   "metadata": {},
   "outputs": [
    {
     "data": {
      "text/plain": [
       "Index(['bblid_x', 'subject', 'sex', 'race', 'race2', 'ethnicity',\n",
       "       'ageAtClinicalAssess1', 'ageAtCnb1', 'ageAtScan1', 'edu1', 'fedu1',\n",
       "       'medu1', 'handednessv2', 'bblid_y', 'mood_4factorv2',\n",
       "       'psychosis_4factorv2', 'externalizing_4factorv2', 'phobias_4factorv2',\n",
       "       'overall_psychopathology_4factorv2', 'bblid_x', 'Overall_Efficiency',\n",
       "       'Overall_Accuracy', 'Overall_Speed', 'F1_Exec_Comp_Res_Accuracy',\n",
       "       'F2_Social_Cog_Accuracy', 'F3_Memory_Accuracy',\n",
       "       'F1_Complex_Reasoning_Efficiency', 'F2_Memory.Efficiency',\n",
       "       'F3_Executive_Efficiency', 'F4_Social_Cognition_Efficiency',\n",
       "       'F1_Slow_Speed', 'F2_Fast_Speed', 'F3_Memory_Speed',\n",
       "       'Overall_Efficiency_Ar', 'Overall_Accuracy_Ar', 'Overall_Speed_Ar',\n",
       "       'F1_Exec_Comp_Cog_Accuracy_Ar', 'F2_Social_Cog_Accuracy_Ar',\n",
       "       'F3_Memory_Accuracy_Ar', 'F1_Social_Cognition_Efficiency_Ar',\n",
       "       'F2_Complex_Reasoning_Efficiency_Ar', 'F3_Memory_Efficiency_Ar',\n",
       "       'F4_Executive_Efficiency_Ar', 'F1_Slow_Speed_Ar', 'F2_Memory_Speed_Ar',\n",
       "       'F3_Fast_Speed_Ar', 'bblid_y', 'second_order_accuracy',\n",
       "       'F1_Exec_Comp_Res_Accuracy_RESIDUALIZED',\n",
       "       'F2_Social_Cog_Accuracy_RESIDUALIZED',\n",
       "       'F3_Memory_Accuracy_RESIDUALIZED', 'bblid', 'restExclude',\n",
       "       'restExcludeVoxelwise', 'restNoDataExclude', 'restRelMeanRMSMotion',\n",
       "       'restRelMeanRMSMotionExclude', 'restNSpikesMotion',\n",
       "       'restNSpikesMotionExclude', 'restNormCrossCorr', 'restNormCoverage',\n",
       "       'restCoregCrossCorr', 'restCoregCoverage',\n",
       "       'restVoxelwiseCoverageExclude', 'restRpsMapCorrectionNotApplied'],\n",
       "      dtype='object')"
      ]
     },
     "execution_count": 9,
     "metadata": {},
     "output_type": "execute_result"
    }
   ],
   "source": [
    "data.measures.columns"
   ]
  },
  {
   "cell_type": "markdown",
   "metadata": {},
   "source": [
    "#### Sometimes it's confusing to have all these odd names, which is why we have a data_dict method"
   ]
  },
  {
   "cell_type": "code",
   "execution_count": 10,
   "metadata": {},
   "outputs": [
    {
     "data": {
      "text/plain": [
       "'GOASSESS  4Factor Bifactor Scores Overall Psychopathology (General Factor)'"
      ]
     },
     "execution_count": 10,
     "metadata": {},
     "output_type": "execute_result"
    }
   ],
   "source": [
    "data.data_dict['overall_psychopathology_4factorv2']"
   ]
  },
  {
   "cell_type": "markdown",
   "metadata": {},
   "source": [
    "#### Let's only look at subjects that have a matrix for resting-state and cognitive scores"
   ]
  },
  {
   "cell_type": "code",
   "execution_count": 11,
   "metadata": {},
   "outputs": [
    {
     "data": {
      "text/plain": [
       "(1390, 400, 400)"
      ]
     },
     "execution_count": 11,
     "metadata": {},
     "output_type": "execute_result"
    }
   ],
   "source": [
    "data.filter('matrix')\n",
    "data.filter('cognitive')\n",
    "data.matrix.shape"
   ]
  },
  {
   "cell_type": "markdown",
   "metadata": {},
   "source": [
    "#### Let's only look at people who did not move a lot"
   ]
  },
  {
   "cell_type": "code",
   "execution_count": 12,
   "metadata": {},
   "outputs": [
    {
     "data": {
      "text/plain": [
       "(1166, 400, 400)"
      ]
     },
     "execution_count": 12,
     "metadata": {},
     "output_type": "execute_result"
    }
   ],
   "source": [
    "data.filter('==',value=0,column='restRelMeanRMSMotionExclude')\n",
    "data.matrix.shape"
   ]
  },
  {
   "cell_type": "markdown",
   "metadata": {},
   "source": [
    "## Let's see what regions predict what mental illness symtom factors best"
   ]
  },
  {
   "cell_type": "code",
   "execution_count": 13,
   "metadata": {},
   "outputs": [],
   "source": [
    "def region_predict(data,region,factor,**model_args):\n",
    "    data.targets = data.measures[factor].values\n",
    "    data.features = data.matrix[:,region]\n",
    "    model_args['self'] = data\n",
    "    pennlinckit.utils.predict(**model_args)"
   ]
  },
  {
   "cell_type": "code",
   "execution_count": 14,
   "metadata": {},
   "outputs": [],
   "source": [
    "data.matrix[np.isnan(data.matrix)]= 0.0 #the diagonal has np.nan, have to set to zero for sklearn"
   ]
  },
  {
   "cell_type": "code",
   "execution_count": null,
   "metadata": {},
   "outputs": [],
   "source": [
    "# factor = 'F1_Exec_Comp_Res_Accuracy_RESIDUALIZED'\n",
    "prediction = np.zeros((400,len(data.measures.subject)))\n",
    "for node in range(400):\n",
    "    region_predict(data,node,factor,**{'model':'deep','cv':'KFold','folds':5,'neurons':400,'layers':10,'remove_linear_vars':['restRelMeanRMSMotion','sex']})\n",
    "    prediction[node] = data.prediction"
   ]
  },
  {
   "cell_type": "code",
   "execution_count": 144,
   "metadata": {},
   "outputs": [
    {
     "data": {
      "text/plain": [
       "(1168, 400)"
      ]
     },
     "execution_count": 144,
     "metadata": {},
     "output_type": "execute_result"
    }
   ],
   "source": [
    "data.features.shape"
   ]
  },
  {
   "cell_type": "code",
   "execution_count": 145,
   "metadata": {},
   "outputs": [],
   "source": [
    "prediction_acc = np.zeros(400)\n",
    "for node in range(data.matrix.shape[-1]):\n",
    "    prediction_acc[node] = pearsonr(prediction[node],data.corrected_targets)[0]"
   ]
  },
  {
   "cell_type": "code",
   "execution_count": 146,
   "metadata": {},
   "outputs": [],
   "source": [
    "np.save('/home/mb3152/diverse_development/data/prediction_{0}.npy'.format(factor),prediction)\n",
    "np.save('/home/mb3152/diverse_development/data/prediction_acc_{0}.npy'.format(factor),prediction_acc)\n",
    "np.save('/home/mb3152/diverse_development/data/prediction_regressed_targets_{0}.npy'.format(factor),data.corrected_targets)"
   ]
  },
  {
   "cell_type": "code",
   "execution_count": null,
   "metadata": {},
   "outputs": [],
   "source": [
    "1/0"
   ]
  },
  {
   "cell_type": "markdown",
   "metadata": {},
   "source": [
    "## I submitted each factor to the cluster (see submit.py)"
   ]
  },
  {
   "cell_type": "markdown",
   "metadata": {},
   "source": [
    "#### Now let's look at the outputs"
   ]
  },
  {
   "cell_type": "code",
   "execution_count": 15,
   "metadata": {},
   "outputs": [],
   "source": [
    "factors = ['mood_4factorv2','psychosis_4factorv2', 'externalizing_4factorv2', 'phobias_4factorv2','overall_psychopathology_4factorv2'] #clincal factors\n",
    "factors = ['F1_Exec_Comp_Res_Accuracy_RESIDUALIZED','F2_Social_Cog_Accuracy_RESIDUALIZED','F3_Memory_Accuracy_RESIDUALIZED'] #cogi factors"
   ]
  },
  {
   "cell_type": "code",
   "execution_count": 16,
   "metadata": {},
   "outputs": [],
   "source": [
    "all_factor_predictions = np.zeros((5,data.matrix.shape[-1],data.matrix.shape[0]))\n",
    "prediction_acc = np.zeros((len(factors),data.matrix.shape[-1]))\n",
    "for fidx, factor in enumerate(factors):\n",
    "    prediction_acc[fidx] = np.load('/home/mb3152/diverse_development/data/prediction_acc_{0}.npy'.format(factor))\n",
    "    all_factor_predictions[fidx] = np.load('/home/mb3152/diverse_development/data/prediction_{0}.npy'.format(factor))"
   ]
  },
  {
   "cell_type": "code",
   "execution_count": 21,
   "metadata": {},
   "outputs": [],
   "source": [
    "# from the adult HCP\n",
    "adult_pc = np.load('/home/mb3152/diverse_development/data/hcp_pc.npy').mean(axis=0)"
   ]
  },
  {
   "cell_type": "code",
   "execution_count": 22,
   "metadata": {},
   "outputs": [],
   "source": [
    "adult_strength = np.load('/home/mb3152/diverse_development/data/hcp_strength.npy').mean(axis=0)"
   ]
  },
  {
   "cell_type": "code",
   "execution_count": 19,
   "metadata": {},
   "outputs": [
    {
     "data": {
      "text/plain": [
       "(0.2667341151865773, 6.080150209232515e-08)"
      ]
     },
     "execution_count": 19,
     "metadata": {},
     "output_type": "execute_result"
    }
   ],
   "source": [
    "pearsonr(prediction_acc.mean(axis=0),adult_pc)"
   ]
  },
  {
   "cell_type": "code",
   "execution_count": 20,
   "metadata": {},
   "outputs": [
    {
     "data": {
      "text/plain": [
       "(0.10914832363634129, 0.029060881864237942)"
      ]
     },
     "execution_count": 20,
     "metadata": {},
     "output_type": "execute_result"
    }
   ],
   "source": [
    "pearsonr(prediction_acc.mean(axis=0),adult_strength)"
   ]
  },
  {
   "cell_type": "code",
   "execution_count": 59,
   "metadata": {},
   "outputs": [
    {
     "name": "stdout",
     "output_type": "stream",
     "text": [
      "(0.1889603421999188, 0.00014371649988763848)\n"
     ]
    }
   ],
   "source": [
    "high_predict = prediction_acc.mean() + (prediction_acc.std())\n",
    "flexible_nodes = (prediction_acc>high_predict).sum(axis=0)\n",
    "print(pearsonr(flexible_nodes,adult_pc))"
   ]
  },
  {
   "cell_type": "code",
   "execution_count": 28,
   "metadata": {},
   "outputs": [],
   "source": [
    "spincorrs = pennlinckit.brain.spin_test(adult_pc,flexible_nodes)\n",
    "spin_stat = pennlinckit.brain.spin_stat(adult_pc,flexible_nodes,spincorrs)"
   ]
  },
  {
   "cell_type": "code",
   "execution_count": 29,
   "metadata": {},
   "outputs": [],
   "source": [
    "import seaborn as sns\n",
    "import matplotlib.pylab as plt\n",
    "from pennlinckit import plotting\n",
    "%matplotlib inline"
   ]
  },
  {
   "cell_type": "code",
   "execution_count": 33,
   "metadata": {},
   "outputs": [
    {
     "data": {
      "image/png": "[encoded data removed]",
      "text/plain": [
       "<Figure size 396x216 with 2 Axes>"
      ]
     },
     "metadata": {
      "needs_background": "light"
     },
     "output_type": "display_data"
    }
   ],
   "source": [
    "plt.close()\n",
    "f,axes = plt.subplots(1,2,figsize=(5.5,3))\n",
    "sns.regplot(x=flexible_nodes,y=adult_pc,ax=axes[0],truncate=False,x_jitter=.2,scatter_kws={\"s\": 50,'alpha':0.35})\n",
    "plt.sca(axes[0])\n",
    "r,p = pearsonr(adult_pc,flexible_nodes)\n",
    "plt.text(2.25,.025,'r={0},p={1}'.format(np.around(r,2),np.around(p,4)))\n",
    "plt.ylabel('participation coef')\n",
    "plt.xlabel('prediction flex')\n",
    "sns.histplot(spincorrs,ax=axes[1])\n",
    "plt.sca(axes[1])\n",
    "plt.vlines(r,0,100,colors='black')\n",
    "plt.tight_layout()\n",
    "sns.despine()\n",
    "plt.savefig('flex.pdf')"
   ]
  },
  {
   "cell_type": "code",
   "execution_count": 34,
   "metadata": {},
   "outputs": [],
   "source": [
    "flex_colors = np.zeros((400,4))\n",
    "flex_colors[flexible_nodes>=2] = np.array([235,93,104,256])/256.\n",
    "pennlinckit.brain.write_cifti(flex_colors,'flex_nodes')"
   ]
  },
  {
   "cell_type": "code",
   "execution_count": 35,
   "metadata": {},
   "outputs": [
    {
     "name": "stdout",
     "output_type": "stream",
     "text": [
      "GOASSESS  4Factor Bifactor Scores Mood Factor\n",
      "GOASSESS  4Factor Bifactor Scores Psychosis Factor\n",
      "GOASSESS  4Factor Bifactor Scores Externalizing Disorder  Factor\n",
      "GOASSESS  4Factor Bifactor Scores Phobia Factor\n",
      "GOASSESS  4Factor Bifactor Scores Overall Psychopathology (General Factor)\n"
     ]
    }
   ],
   "source": [
    "for factor in factors: print (data.data_dict[factor])"
   ]
  },
  {
   "cell_type": "code",
   "execution_count": 55,
   "metadata": {},
   "outputs": [],
   "source": [
    "flexible_nodes = np.zeros((400))\n",
    "for high_predict in [0.05,0.06,0.07,0.08]:\n",
    "    flexible_nodes =flexible_nodes+ (prediction_acc>high_predict).sum(axis=0)\n",
    "\n",
    "print(pearsonr(flexible_nodes,adult_pc))\n",
    "flexible_nodes[flexible_nodes>=6] = 6\n",
    "flex_colors = pennlinckit.brain.make_heatmap(flexible_nodes,cmap=sns.diverging_palette(220, 10,n=1001))\n",
    "pennlinckit.brain.write_cifti(flex_colors,'flex_nodes_cont')"
   ]
  },
  {
   "cell_type": "code",
   "execution_count": 13,
   "metadata": {},
   "outputs": [],
   "source": [
    "allen = pennlinckit.data.allen_brain_institute()"
   ]
  },
  {
   "cell_type": "code",
   "execution_count": 19,
   "metadata": {},
   "outputs": [],
   "source": [
    "allen_ge = np.corrcoef(allen.expression)"
   ]
  },
  {
   "cell_type": "code",
   "execution_count": 103,
   "metadata": {},
   "outputs": [
    {
     "data": {
      "text/plain": [
       "Ttest_indResult(statistic=2.77469467261896, pvalue=0.005559563269196067)"
      ]
     },
     "execution_count": 103,
     "metadata": {},
     "output_type": "execute_result"
    }
   ],
   "source": [
    "diverse_club = adult_pc >= np.percentile(adult_pc,80)\n",
    "rich_club = adult_strength >= np.percentile(adult_strength,80)\n",
    "diverse_club[200:] = False\n",
    "rich_club[200:] = False\n",
    "diverse_ge = allen_ge[np.ix_(diverse_club,diverse_club)].flatten()\n",
    "rich_ge = allen_ge[np.ix_(rich_club,rich_club)].flatten()\n",
    "diverse_ge = diverse_ge[np.isnan(diverse_ge)==False]\n",
    "diverse_ge = diverse_ge[diverse_ge!=1]\n",
    "rich_ge = rich_ge[np.isnan(rich_ge)==False]\n",
    "rich_ge = rich_ge[rich_ge!=1]\n",
    "scipy.stats.ttest_ind(diverse_ge,rich_ge)"
   ]
  },
  {
   "cell_type": "code",
   "execution_count": null,
   "metadata": {},
   "outputs": [],
   "source": []
  },
  {
   "cell_type": "code",
   "execution_count": null,
   "metadata": {},
   "outputs": [],
   "source": []
  },
  {
   "cell_type": "code",
   "execution_count": null,
   "metadata": {},
   "outputs": [],
   "source": []
  },
  {
   "cell_type": "code",
   "execution_count": null,
   "metadata": {},
   "outputs": [],
   "source": []
  },
  {
   "cell_type": "code",
   "execution_count": null,
   "metadata": {},
   "outputs": [],
   "source": []
  },
  {
   "cell_type": "code",
   "execution_count": null,
   "metadata": {},
   "outputs": [],
   "source": []
  },
  {
   "cell_type": "code",
   "execution_count": null,
   "metadata": {},
   "outputs": [],
   "source": []
  },
  {
   "cell_type": "code",
   "execution_count": null,
   "metadata": {},
   "outputs": [],
   "source": []
  },
  {
   "cell_type": "code",
   "execution_count": null,
   "metadata": {},
   "outputs": [],
   "source": []
  }
 ],
 "metadata": {
  "kernelspec": {
   "display_name": "My Env",
   "language": "python",
   "name": "my_env"
  },
  "language_info": {
   "codemirror_mode": {
    "name": "ipython",
    "version": 3
   },
   "file_extension": ".py",
   "mimetype": "text/x-python",
   "name": "python",
   "nbconvert_exporter": "python",
   "pygments_lexer": "ipython3",
   "version": "3.8.5"
  }
 },
 "nbformat": 4,
 "nbformat_minor": 4
}
