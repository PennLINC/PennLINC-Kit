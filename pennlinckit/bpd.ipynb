{
 "cells": [
  {
   "cell_type": "code",
   "execution_count": 5,
   "metadata": {},
   "outputs": [],
   "source": [
    "import pennlinckit.data\n",
    "import pennlinckit.network\n",
    "import pennlinckit.utils\n",
    "import pennlinckit.brain\n",
    "import numpy as np\n",
    "from scipy.stats import pearsonr"
   ]
  },
  {
   "cell_type": "code",
   "execution_count": 6,
   "metadata": {},
   "outputs": [],
   "source": [
    "global homedir\n",
    "homedir = '/cbica/home/bertolem/bpd/'"
   ]
  },
  {
   "cell_type": "code",
   "execution_count": 7,
   "metadata": {},
   "outputs": [],
   "source": [
    "def score_bdp(data):\n",
    "\tif data.source == 'hcpd-dcan':\n",
    "\t\treverse = [40,5,50,31,8,33]\n",
    "\t\tregular = [14,39,54,9,59,24,29,45,55,22,36,21,26,41,51,11,28,30]\n",
    "\t\tneo_name = 'nffi'\n",
    "\n",
    "\tif data.source == 'hcpya':\n",
    "\t\treverse = ['40','05','50','31','33','08']\n",
    "\t\tregular = ['14','39','54','09','59','24','29','45','55','22','36','21','26','41','51','11','28','30']\n",
    "\t\tneo_name = 'NEORAW'\n",
    "\n",
    "\tdef apply_dict(dict,x):\n",
    "\t\treturn np.array(list(map(dict.get,x)))\n",
    "\tval_dict = {'SA':5,'A':4,'N':3,'D':2,'SD':1,'nan':np.nan}\n",
    "\n",
    "\tassert len(np.intersect1d(reverse,regular)) == 0\n",
    "\tassert len(np.unique(reverse)) + len(np.unique(regular)) ==24\n",
    "\n",
    "\tbpd_score = []\n",
    "\tfor i in regular:\n",
    "\t\tx = data.subject_measures['%s_%s'%(neo_name,i)].values\n",
    "\t\tif data.source == 'hcpya':\n",
    "\t\t\tx = apply_dict(val_dict,x.astype(str))\n",
    "\t\tbpd_score.append(x)\n",
    "\tfor i in reverse:\n",
    "\t\tx = data.subject_measures['%s_%s'%(neo_name,i)].values\n",
    "\t\tif data.source == 'hcpya':\n",
    "\t\t\tx = apply_dict(val_dict,x.astype(str))\n",
    "\t\tx = x * -1\n",
    "\t\tbpd_score.append(x)\n",
    "\tbpd_score = np.nanmean(bpd_score,axis=0)\n",
    "\tdata.subject_measures['bpd_score'] = bpd_score"
   ]
  },
  {
   "cell_type": "code",
   "execution_count": 8,
   "metadata": {},
   "outputs": [],
   "source": [
    "def make_data(source,cores=10):\n",
    "\t\"\"\"\n",
    "\tMake the datasets and run network metrics\n",
    "\t\"\"\"\n",
    "\tdata = pennlinckit.data.dataset(source,task='**', parcels='Schaefer417',fd_scrub=.2)\n",
    "\tdata.load_matrices()\n",
    "\tdata.filter(way='>',value=100,column='n_frames')\n",
    "\tdata.network = pennlinckit.network.make_networks(data,yeo_partition=7,cores=cores-1)\n",
    "\tpennlinckit.utils.save_dataset(data,'/{0}/data/{1}.data'.format(homedir,source))"
   ]
  },
  {
   "cell_type": "code",
   "execution_count": 11,
   "metadata": {},
   "outputs": [],
   "source": [
    "source = 'hcpya'\n",
    "make_data(source)\n",
    "data = pennlinckit.utils.load_dataset('/{0}/data/{1}.data'.format(homedir,source))\n",
    "score_bdp(data)\n",
    "data.filter(way='has_subject_measure',value='bpd_score')\n",
    "regressors = ['meanFD','interview_age','sex']"
   ]
  },
  {
   "cell_type": "code",
   "execution_count": null,
   "metadata": {},
   "outputs": [],
   "source": [
    "data.targets = data.subject_measures['bpd_score'].values\n",
    "accuracy = np.zeros(data.matrix.shape[1])\n",
    "bootstrap = np.zeros(data.matrix.shape[1])\n",
    "for node in range(data.matrix.shape[1]):\n",
    "\tdata.features = data.matrix[:,node]\n",
    "\tpennlinckit.utils.predict(data,**{'model':'ridge','cv':'KFold','folds':10,'remove_linear_vars':regressors})\n",
    "\t# pennlinckit.utils.predict(data,**{'model':'deep','cv':'KFold','folds':10,'neurons':400,'layers':10,'remove_linear_vars':regressors})\n",
    "\tr,low,high,p = pennlinckit.utils.bootstrap_corr(data.targets,data.prediction,pearsonr,1000)\n",
    "\taccuracy[node] = r \n",
    "\tbootstrap[node] = p"
   ]
  },
  {
   "cell_type": "code",
   "execution_count": null,
   "metadata": {},
   "outputs": [],
   "source": [
    "colors = np.array(pennlinckit.utils.make_heatmap(pennlinckit.utils.cut_data(accuracy,1.5),sns.diverging_palette(220, 10,n=1001)))\n",
    "out_path='/{0}/brains/{1}_{2}_prediction_acc'.format(homedir,source,'_'.join(regressors))\n",
    "pennlinckit.brain.write_cifti(colors,out_path,parcels='Schaefer400')"
   ]
  }
 ],
 "metadata": {
  "kernelspec": {
   "display_name": "Python 3 (ipykernel)",
   "language": "python",
   "name": "python3"
  },
  "language_info": {
   "codemirror_mode": {
    "name": "ipython",
    "version": 3
   },
   "file_extension": ".py",
   "mimetype": "text/x-python",
   "name": "python",
   "nbconvert_exporter": "python",
   "pygments_lexer": "ipython3",
   "version": "3.9.6"
  }
 },
 "nbformat": 4,
 "nbformat_minor": 2
}
